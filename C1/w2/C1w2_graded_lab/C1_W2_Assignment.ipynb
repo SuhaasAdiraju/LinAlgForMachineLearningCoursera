{
  "cells": [
    {
      "cell_type": "markdown",
      "metadata": {
        "id": "EAt-K2qgcIou"
      },
      "source": [
        "# Systems of Linear Equations"
      ]
    },
    {
      "cell_type": "markdown",
      "metadata": {
        "id": "FZYK-0rin5x7"
      },
      "source": [
        "Welcome to the first assignment of the Course 1. From the lecture videos you learned about the systems of linear equations and the approach to find their solutions using row reduction.\n",
        "\n",
        "**After this assignment you will be able to:**\n",
        "- Use `NumPy` package to set up the arrays corresponding to the system of linear equations\n",
        "- Evaluate the determinant of a matrix and find the solution of the system with `NumPy` linear algebra package\n",
        "- Perform row reduction to bring matrix into row echelon form\n",
        "- Find the solution for the system of linear equations using row reduced matrix"
      ]
    },
    {
      "cell_type": "markdown",
      "metadata": {
        "id": "7DXWwDUwTkY0"
      },
      "source": [
        "# Table of Contents\n",
        "- [ 1 - System of Linear Equations and Corresponding `NumPy` Arrays](#1)\n",
        "  - [ Exercise 1](#ex01)\n",
        "- [ 2 - Solution for the System of Equations with `NumPy` Linear Algebra Package](#2)\n",
        "  - [ Exercise 2](#ex02)\n",
        "- [ 3 - Elementary Operations and Row Reduction](#3)\n",
        "  - [ Exercise 3](#ex03)\n",
        "  - [ Exercise 4](#ex04)\n",
        "- [ 4 - Solution for the System of Equations using Row Reduction](#4)\n",
        "  - [ Exercise 5](#ex05)\n",
        "  - [ Exercise 6](#ex06)"
      ]
    },
    {
      "cell_type": "markdown",
      "metadata": {
        "id": "XI8PBrk_2Z4V"
      },
      "source": [
        "## Packages\n",
        "\n",
        "Run the following cell to load the packages you'll need."
      ]
    },
    {
      "cell_type": "code",
      "execution_count": 1,
      "metadata": {
        "tags": [
          "graded"
        ],
        "id": "47Gmu5hJTkY1"
      },
      "outputs": [],
      "source": [
        "import numpy as np"
      ]
    },
    {
      "cell_type": "markdown",
      "metadata": {
        "id": "-Y7G-_6STkY1"
      },
      "source": [
        "Load the unit tests defined specifically for this notebook."
      ]
    },
    {
      "cell_type": "code",
      "execution_count": 2,
      "metadata": {
        "id": "KTbfQLvwTkY2",
        "colab": {
          "base_uri": "https://localhost:8080/"
        },
        "outputId": "f8d489ec-1316-4c96-ce84-b68d39dd9e39"
      },
      "outputs": [
        {
          "output_type": "stream",
          "name": "stdout",
          "text": [
            "Cloning into 'Mathematics-for-Machine-Learning-and-Data-Science-Specialization-Coursera'...\n",
            "remote: Enumerating objects: 392, done.\u001b[K\n",
            "remote: Counting objects: 100% (140/140), done.\u001b[K\n",
            "remote: Compressing objects: 100% (124/124), done.\u001b[K\n",
            "remote: Total 392 (delta 14), reused 131 (delta 10), pack-reused 252\u001b[K\n",
            "Receiving objects: 100% (392/392), 84.81 MiB | 15.06 MiB/s, done.\n",
            "Resolving deltas: 100% (49/49), done.\n",
            "/content\n",
            "/content/Mathematics-for-Machine-Learning-and-Data-Science-Specialization-Coursera/C1/w2/C1w2_graded_lab\n",
            "/content/Mathematics-for-Machine-Learning-and-Data-Science-Specialization-Coursera/C1/w2/C1w2_graded_lab\n"
          ]
        }
      ],
      "source": [
        "#clone repo\n",
        "!git clone https://github.com/greyhatguy007/Mathematics-for-Machine-Learning-and-Data-Science-Specialization-Coursera.git\n",
        "\n",
        "#see the empty path\n",
        "!pwd\n",
        "\n",
        "#add/change directory\n",
        "%cd Mathematics-for-Machine-Learning-and-Data-Science-Specialization-Coursera/C1/w2/C1w2_graded_lab\n",
        "\n",
        "#check it worked\n",
        "!pwd\n",
        "\n",
        "\n",
        "#run/import the file desired\n",
        "import w2_unittest\n"
      ]
    },
    {
      "cell_type": "markdown",
      "metadata": {
        "id": "Efoh4NxeTkY2"
      },
      "source": [
        "<a name='1'></a>\n",
        "## 1 - System of Linear Equations and Corresponding `NumPy` Arrays\n",
        "\n",
        "Matrices can be used to solve systems of equations. But first, you need to represent the system using matrices. Given the following system of linear equations:\n",
        "\n",
        "$$\\begin{cases}\n",
        "2x_1-x_2+x_3+x_4=6, \\\\ x_1+2x_2-x_3-x_4=3, \\\\ -x_1+2x_2+2x_3+2x_4=14, \\\\ x_1-x_2+2x_3+x_4=8, \\end{cases}\\tag{1}$$\n",
        "\n",
        "you will construct matrix $A$, where each row represents one equation in the system and each column represents a variable $x_1$, $x_2$, $x_3$, $x_4$. The free coefficients from the right sides of the equations you will put into vector $b$."
      ]
    },
    {
      "cell_type": "markdown",
      "metadata": {
        "id": "RqKkgBzMTkY2"
      },
      "source": [
        "<a name='ex01'></a>\n",
        "### Exercise 1\n",
        "\n",
        "Construct matrix $A$ and vector $b$ corresponding to the system of linear equations $(1)$."
      ]
    },
    {
      "cell_type": "code",
      "execution_count": 3,
      "metadata": {
        "id": "Je3yV0Wnn5x8",
        "scrolled": true,
        "tags": [
          "graded"
        ],
        "colab": {
          "base_uri": "https://localhost:8080/"
        },
        "outputId": "3c905eb0-817a-4fb9-a0bb-e26c1bca93d5"
      },
      "outputs": [
        {
          "output_type": "stream",
          "name": "stdout",
          "text": [
            "The shape of A is (4, 4)\n",
            "The shape of b is (4,)\n"
          ]
        }
      ],
      "source": [
        "### START CODE HERE ###\n",
        "A = np.array([\n",
        "    [2,-1,1,1],\n",
        "    [1,2,-1,-1],\n",
        "    [-1,2,2,2],\n",
        "    [1,-1,2,1]\n",
        "    ])\n",
        "\n",
        "print(f'The shape of A is {A.shape}')\n",
        "\n",
        "b = np.array([6,3,14,8])\n",
        "print(f'The shape of b is {b.shape}')\n",
        "\n",
        "### END CODE HERE ###"
      ]
    },
    {
      "cell_type": "code",
      "execution_count": 4,
      "metadata": {
        "colab": {
          "base_uri": "https://localhost:8080/"
        },
        "id": "W9esQaJqTkY2",
        "outputId": "14b1b018-7be6-4e71-9791-d6d8b22f0924"
      },
      "outputs": [
        {
          "output_type": "stream",
          "name": "stdout",
          "text": [
            "\u001b[92m All tests passed\n"
          ]
        }
      ],
      "source": [
        "# Test your solution\n",
        "w2_unittest.test_matrix(A, b)"
      ]
    },
    {
      "cell_type": "markdown",
      "metadata": {
        "id": "lIVJVHYwTkY3"
      },
      "source": [
        "<a name='2'></a>\n",
        "## 2 - Solution for the System of Equations with `NumPy` Linear Algebra Package\n",
        "\n",
        "A system of four linear equations with four unknown variables has a unique solution if and only if the determinant of the corresponding matrix of coefficients is not equal to zero. `NumPy` provides quick and reliable ways to calculate the determinant of a square matrix and also to solve the system of linear equations."
      ]
    },
    {
      "cell_type": "markdown",
      "metadata": {
        "id": "MkC-PxNbTkY3"
      },
      "source": [
        "<a name='ex02'></a>\n",
        "### Exercise 2\n",
        "\n",
        "Find the determinant $d$ of matrix A and the solution vector $x$ for the system of linear equations $(1)$."
      ]
    },
    {
      "cell_type": "markdown",
      "metadata": {
        "id": "wZYT-Hg_TkY3"
      },
      "source": [
        "<details>    \n",
        "<summary>\n",
        "    <font size=\"3\" color=\"darkgreen\"><b>Hints</b></font>\n",
        "</summary>\n",
        "<p>\n",
        "<ul>\n",
        "    <li>use np.linalg.det(...) function to calculate determinant</li>\n",
        "    <li>use np.linalg.solve(..., ...) function to find solution of the linear system</li>\n",
        "</ul>\n",
        "</p>"
      ]
    },
    {
      "cell_type": "code",
      "execution_count": 5,
      "metadata": {
        "tags": [
          "graded"
        ],
        "colab": {
          "base_uri": "https://localhost:8080/"
        },
        "id": "aZ9w55ukTkY3",
        "outputId": "a7ca71a0-1a6a-498b-f639-7ff9543e1fec"
      },
      "outputs": [
        {
          "output_type": "stream",
          "name": "stdout",
          "text": [
            "Our determinant was -16.999999999999993\n",
            "Our solution vector, of weights, is [2. 3. 4. 1.]\n"
          ]
        }
      ],
      "source": [
        "### START CODE HERE ###\n",
        "# determinant of matrix A\n",
        "d = np.linalg.det(A)\n",
        "x = np.linalg.solve(A,b)\n",
        "### END CODE HERE ###\n",
        "print(f'Our determinant was {d}')\n",
        "print(f'Our solution vector, of weights, is {x}')"
      ]
    },
    {
      "cell_type": "markdown",
      "metadata": {
        "id": "ZxUJPsQdTkY3"
      },
      "source": [
        "##### __Expected Output__\n",
        "\n",
        "```Python\n",
        "Determinant of matrix A: -17.00\n",
        "Solution vector: [2. 3. 4. 1.]\n",
        "```"
      ]
    },
    {
      "cell_type": "code",
      "execution_count": 6,
      "metadata": {
        "colab": {
          "base_uri": "https://localhost:8080/"
        },
        "id": "2duGMpuOTkY4",
        "outputId": "a2b50879-d25f-475a-f235-196bd95fedfd"
      },
      "outputs": [
        {
          "output_type": "stream",
          "name": "stdout",
          "text": [
            "\u001b[92m All tests passed\n"
          ]
        }
      ],
      "source": [
        "# Test your solution\n",
        "w2_unittest.test_det_and_solution_scipy(d,x)"
      ]
    },
    {
      "cell_type": "markdown",
      "metadata": {
        "id": "tNrGsK3LTkY4"
      },
      "source": [
        "<a name='3'></a>\n",
        "## 3 - Elementary Operations and Row Reduction\n",
        "\n",
        "Even though the contemporary packages allow to find the solution with one line of the code, performing required algebraic operations manually helps to build foundations which are necessary for deep understanding of the machine learning algorithms.\n",
        "\n",
        "Here you will solve the system of linear equations algebraically using row reduction. It involves combination of the equations using elementary operations, eliminaring as many variables as possible for each equation. There are three valid operations which can be performed to bring the system of equations to equivalent one (with the same solutions):\n",
        "\n",
        "- Multiply any row by non-zero number\n",
        "- Add two rows and exchange one of the original rows with the result of the addition\n",
        "- Swap rows"
      ]
    },
    {
      "cell_type": "markdown",
      "metadata": {
        "id": "OVe_8JbcTkY4"
      },
      "source": [
        "<a name='ex03'></a>\n",
        "### Exercise 3\n",
        "\n",
        "Set up three functions corresponding to the discussed above elementary operations."
      ]
    },
    {
      "cell_type": "markdown",
      "metadata": {
        "id": "g72L-T9sTkY4"
      },
      "source": [
        "<details>    \n",
        "<summary>\n",
        "    <font size=\"3\" color=\"darkgreen\"><b>Hints</b></font>\n",
        "</summary>\n",
        "<p>\n",
        "<ul>\n",
        "    <li>you can extract i-th row of a matrix M using the code M[i]</li>\n",
        "    <li>remember, that indexing of arrays in Python starts from zero, so to extract second row of a matrix, you need to use the following code: M[1]</li>\n",
        "</ul>\n",
        "</p>"
      ]
    },
    {
      "cell_type": "code",
      "execution_count": 29,
      "metadata": {
        "tags": [
          "graded"
        ],
        "id": "LSumqfzXTkY4"
      },
      "outputs": [],
      "source": [
        "### START CODE HERE ###\n",
        "# multiplication\n",
        "def row_mult(Mat,row_num, mult):\n",
        "  newMat = Mat.copy()\n",
        "  newrow = newMat[[row_num, ]] * mult\n",
        "  newMat[row_num, ] = newrow\n",
        "  return newMat\n",
        "\n",
        "def row_add(Mat,Addrow,Ogrow,mult):\n",
        "  newMat = Mat.copy()\n",
        "  newMat[Ogrow, ] = newMat[[Ogrow, ]] + newMat[[Addrow, ]] *mult\n",
        "  return newMat\n",
        "\n",
        "def row_swap(Mat,Ogrow, swaprow):\n",
        "  newMat = Mat.copy()\n",
        "  first = newMat[[Ogrow, ]]\n",
        "  second = newMat[[swaprow, ]]\n",
        "  newMat[Ogrow, ] = second\n",
        "  newMat[swaprow, ] = first\n",
        "  return newMat\n",
        "### END CODE HERE ###"
      ]
    },
    {
      "cell_type": "markdown",
      "metadata": {
        "id": "glPSSXU-TkY4"
      },
      "source": [
        "Check your code using the following test cell s:"
      ]
    },
    {
      "cell_type": "code",
      "execution_count": 30,
      "metadata": {
        "tags": [
          "graded"
        ],
        "colab": {
          "base_uri": "https://localhost:8080/"
        },
        "id": "pXumdnWtTkY4",
        "outputId": "35441344-b742-45bc-f78e-98fe7d60ae7f"
      },
      "outputs": [
        {
          "output_type": "stream",
          "name": "stdout",
          "text": [
            "Original matrix:\n",
            "[[ 1. -2.  3. -4.]\n",
            " [-5.  6. -7.  8.]\n",
            " [-4.  3. -2.  1.]\n",
            " [ 8. -7.  6. -5.]]\n",
            "\n",
            "Original matrix after its third row is multiplied by -2:\n",
            "[[ 1. -2.  3. -4.]\n",
            " [-5.  6. -7.  8.]\n",
            " [ 8. -6.  4. -2.]\n",
            " [ 8. -7.  6. -5.]]\n",
            "\n",
            "Original matrix after exchange of the third row with the sum of itself and first row multiplied by 4:\n",
            "[[  1.  -2.   3.  -4.]\n",
            " [ -5.   6.  -7.   8.]\n",
            " [  0.  -5.  10. -15.]\n",
            " [  8.  -7.   6.  -5.]]\n",
            "\n",
            "Original matrix after exchange of its first and third rows:\n",
            "[[-4.  3. -2.  1.]\n",
            " [-5.  6. -7.  8.]\n",
            " [ 1. -2.  3. -4.]\n",
            " [ 8. -7.  6. -5.]]\n"
          ]
        }
      ],
      "source": [
        "A_test = np.array([\n",
        "        [1, -2, 3, -4],\n",
        "        [-5, 6, -7, 8],\n",
        "        [-4, 3, -2, 1],\n",
        "        [8, -7, 6, -5]\n",
        "    ], dtype=np.dtype(float))\n",
        "print(\"Original matrix:\")\n",
        "print(A_test)\n",
        "\n",
        "print(\"\\nOriginal matrix after its third row is multiplied by -2:\")\n",
        "print(row_mult(A_test,2,-2))\n",
        "\n",
        "print(\"\\nOriginal matrix after exchange of the third row with the sum of itself and first row multiplied by 4:\")\n",
        "print(row_add(A_test,0,2,4))\n",
        "\n",
        "print(\"\\nOriginal matrix after exchange of its first and third rows:\")\n",
        "print(row_swap(A_test,0,2))\n",
        "\n"
      ]
    },
    {
      "cell_type": "markdown",
      "metadata": {
        "id": "t9096x_NTkY4"
      },
      "source": [
        "##### __Expected Output__\n",
        "\n",
        "```Python\n",
        "Original matrix:\n",
        "[[ 1 -2  3 -4]\n",
        " [-5  6 -7  8]\n",
        " [-4  3 -2  1]\n",
        " [ 8 -7  6 -5]]\n",
        "\n",
        "Original matrix after its third row is multiplied by -2:\n",
        "[[ 1 -2  3 -4]\n",
        " [-5  6 -7  8]\n",
        " [ 8 -6  4 -2]\n",
        " [ 8 -7  6 -5]]\n",
        "\n",
        "Original matrix after exchange of the third row with the sum of itself and first row multiplied by 4:\n",
        "[[  1  -2   3  -4]\n",
        " [ -5   6  -7   8]\n",
        " [  0  -5  10 -15]\n",
        " [  8  -7   6  -5]]\n",
        "\n",
        "Original matrix after exchange of its first and third rows:\n",
        "[[-4  3 -2  1]\n",
        " [-5  6 -7  8]\n",
        " [ 1 -2  3 -4]\n",
        " [ 8 -7  6 -5]]\n",
        "```"
      ]
    },
    {
      "cell_type": "code",
      "execution_count": 12,
      "metadata": {
        "colab": {
          "base_uri": "https://localhost:8080/"
        },
        "id": "i1sAXHOvTkY4",
        "outputId": "4ca816a6-4da6-4f53-d254-d8bedb78fdb6"
      },
      "outputs": [
        {
          "output_type": "stream",
          "name": "stdout",
          "text": [
            "\u001b[92m All tests passed\n"
          ]
        }
      ],
      "source": [
        "# Test your solution\n",
        "w2_unittest.test_elementary_operations(row_mult, row_add, row_swap)\n",
        "\n",
        "\n",
        "\n",
        "A_ref = row_add(A_ref,2,1,1)\n",
        "    A_ref = row_add(A_ref,0,2,1)\n",
        "    A_ref = row_add(A_ref,0,3,-2)\n",
        "    #Pivot 2\n",
        "    A_ref = row_swap(A_ref,2,1)\n",
        "    A_ref = row_add(A_ref,3,2,-4)\n",
        "    A_ref = row_add(A_ref,1,3,-1)\n",
        "    #Pivot 3\n",
        "    A_ref = row_add(A_ref,3,2,2)\n",
        "    A_ref = row_mult(A_ref,2,-1)\n",
        "    A_ref = row_add(A_ref,2,3,7)\n",
        "    #Pivot 4\n",
        "    A_ref = row_mult(A_ref,3,1/17)"
      ]
    },
    {
      "cell_type": "markdown",
      "metadata": {
        "id": "-rkw4Db6TkY4"
      },
      "source": [
        "<a name='ex04'></a>\n",
        "### Exercise 4\n",
        "\n",
        "Apply elementary operations to the defined above matrix A, performing row reduction according to the given instructions.\n",
        "\n",
        "*Note:* Feel free to add a return statement between the different matrix operations in the code to check on your results while you are writing the code (commenting off the rest of the function). This way you can see, whether your matrix operations are performed correctly line by line (don't forget to remove the return statement afterwards!)."
      ]
    },
    {
      "cell_type": "markdown",
      "metadata": {
        "id": "NLvbUd20TkY5"
      },
      "source": [
        "<details>    \n",
        "<summary>\n",
        "    <font size=\"3\" color=\"darkgreen\"><b>Hints</b></font>\n",
        "</summary>\n",
        "<p>\n",
        "<ul>\n",
        "    <li>to swap row 1 and row 2 of matrix A, use the code SwapRows(A,1,2)</li>\n",
        "    <li>to multiply row 1 of matrix A by 4 and add it to the row 2, use the code AddRows(A,1,2,4)</li>\n",
        "    <li>to multiply row 2 of matrix A by 5, use the code MultiplyRow(A,2,5)</li>\n",
        "</ul>\n",
        "</p>\n"
      ]
    },
    {
      "cell_type": "code",
      "execution_count": 83,
      "metadata": {
        "tags": [
          "graded"
        ],
        "colab": {
          "base_uri": "https://localhost:8080/"
        },
        "id": "Am6Ti1cETkY5",
        "outputId": "7a57cd6d-654a-466c-968b-bd05c14bc250"
      },
      "outputs": [
        {
          "output_type": "stream",
          "name": "stdout",
          "text": [
            "[[ 1  2 -1 -1  3]\n",
            " [ 0  1  4  3 22]\n",
            " [ 0  0  1  3  7]\n",
            " [ 0  0  0  1  1]]\n"
          ]
        }
      ],
      "source": [
        "def augmented_to_ref(A, b):\n",
        "    ### START CODE HERE ###\n",
        "    # Create augmented matrix\n",
        "    A_ref = np.hstack([A,np.reshape(b,[4,1])])\n",
        "\n",
        "    #Pivot 1\n",
        "    A_ref = row_swap(A_ref,0,1)\n",
        "    A_ref = row_add(A_ref,2,1,2)\n",
        "    A_ref = row_add(A_ref,3,2,1)\n",
        "    A_ref = row_add(A_ref,0,3,-1)\n",
        "    #Pivot 2\n",
        "    A_ref = row_swap(A_ref,1,2)\n",
        "    A_ref = row_add(A_ref,3,2,1)\n",
        "    A_ref = row_add(A_ref,1,3,3)\n",
        "    #Pivot 3\n",
        "    A_ref = row_mult(A_ref,2,2)\n",
        "    A_ref = row_add(A_ref,3,2,-1)\n",
        "    A_ref = row_add(A_ref,2,3,-15)\n",
        "    #Pivot 4\n",
        "    A_ref = row_mult(A_ref,3,-1/34)\n",
        "\n",
        "    ### END CODE HERE ###\n",
        "\n",
        "    return A_ref\n",
        "\n",
        "A_ref = augmented_to_ref(A, b)\n",
        "\n",
        "print(A_ref)"
      ]
    },
    {
      "cell_type": "markdown",
      "metadata": {
        "id": "5gE-0ULgTkY5"
      },
      "source": [
        "##### __Expected Output__\n",
        "\n",
        "```Python\n",
        "[[ 1  2 -1 -1  3]\n",
        " [ 0  1  4  3 22]\n",
        " [ 0  0  1  3  7]\n",
        " [ 0  0  0  1  1]]\n",
        "```"
      ]
    },
    {
      "cell_type": "code",
      "execution_count": 84,
      "metadata": {
        "colab": {
          "base_uri": "https://localhost:8080/"
        },
        "id": "XHrAd0R6TkY5",
        "outputId": "783768e4-5ecb-4292-cb80-8bc9cda95360"
      },
      "outputs": [
        {
          "output_type": "stream",
          "name": "stdout",
          "text": [
            "\u001b[92m All tests passed\n"
          ]
        }
      ],
      "source": [
        "# Test your solution\n",
        "w2_unittest.test_augmented_to_ref(augmented_to_ref)"
      ]
    },
    {
      "cell_type": "markdown",
      "metadata": {
        "id": "26dfRp_WTkY5"
      },
      "source": [
        "<a name='4'></a>\n",
        "## 4 - Solution for the System of Equations using Row Reduction\n",
        "\n",
        "The solution can be found from the reduced form manually. From the last line you can find $x_4$, then you can calculate each of the $x_3$, $x_2$ and $x_1$ taking the elements of the matrix `A_ref[i,j]` and solving the linear equations one by one."
      ]
    },
    {
      "cell_type": "markdown",
      "metadata": {
        "id": "RurG3oLMTkY5"
      },
      "source": [
        "<a name='ex05'></a>\n",
        "### Exercise 5\n",
        "\n",
        "From the last line of the reduced matrix `A_ref` find $x_4$. Then you can calculate each of the $x_3$, $x_2$ and $x_1$ taking the elements of the matrix `A_ref[i,j]` and solving the linear equations one by one."
      ]
    },
    {
      "cell_type": "markdown",
      "metadata": {
        "id": "ISVhwS4dTkY5"
      },
      "source": [
        "<details>    \n",
        "<summary>\n",
        "    <font size=\"3\" color=\"darkgreen\"><b>Hints</b></font>\n",
        "</summary>\n",
        "<p>\n",
        "Row reduced matrix in the section above corresponds to the following system of linear equations:\n",
        "$$\\begin{cases}\n",
        "x_1+2x_2-x_3-x_4=3, \\\\ x_2+4x_3+3x_4=22, \\\\ x_3+3x_4=7, \\\\ x_4=1,\n",
        "\\end{cases}$$\n",
        "\n",
        "</p>"
      ]
    },
    {
      "cell_type": "code",
      "execution_count": 122,
      "metadata": {
        "tags": [
          "graded"
        ],
        "id": "xDWx0mwaTkY5",
        "outputId": "02429194-97b4-4d0a-8dbf-199696e2a90f",
        "colab": {
          "base_uri": "https://localhost:8080/"
        }
      },
      "outputs": [
        {
          "output_type": "stream",
          "name": "stdout",
          "text": [
            "[[ 1  2 -1 -1  3]\n",
            " [ 0  1  4  3 22]\n",
            " [ 0  0  1  3  7]\n",
            " [ 0  0  0  1  1]]\n",
            "2 3 4 1\n"
          ]
        }
      ],
      "source": [
        "### START CODE HERE ###\n",
        "print(A_ref)\n",
        "x_4 = A_ref[3,4]\n",
        "x_3 = 7 - (3* x_4)\n",
        "x_2 = 22 - ((4* x_3)+(3* x_4))\n",
        "x_1 = 3 - ((2*x_2)+(-1*x_3)+(-1*x_4))\n",
        "### END CODE HERE ###\n",
        "\n",
        "print(x_1, x_2, x_3, x_4)"
      ]
    },
    {
      "cell_type": "markdown",
      "metadata": {
        "id": "YXOmIfNzTkY5"
      },
      "source": [
        "##### __Expected Output__\n",
        "\n",
        "```Python\n",
        "2 3 4 1\n",
        "```"
      ]
    },
    {
      "cell_type": "code",
      "execution_count": 123,
      "metadata": {
        "id": "w34baKIvTkY6",
        "outputId": "bd24c763-91b4-4a22-f8ee-1418176e8264",
        "colab": {
          "base_uri": "https://localhost:8080/"
        }
      },
      "outputs": [
        {
          "output_type": "stream",
          "name": "stdout",
          "text": [
            "\u001b[92m All tests passed\n"
          ]
        }
      ],
      "source": [
        "# Test your solution\n",
        "w2_unittest.test_solution_elimination(x_1, x_2, x_3, x_4)"
      ]
    },
    {
      "cell_type": "markdown",
      "metadata": {
        "id": "nsvdZGPcTkY6"
      },
      "source": [
        "<a name='ex06'></a>\n",
        "### Exercise 6\n",
        "\n",
        "Using the same elementary operations as above you can reduce the matrix further to diagonal form, from which you can see the solutions easily."
      ]
    },
    {
      "cell_type": "code",
      "execution_count": 131,
      "metadata": {
        "tags": [
          "graded"
        ],
        "id": "hU0oKIxJTkY6",
        "outputId": "3c3b0e39-7a0f-490e-cd96-31de790c5aaa",
        "colab": {
          "base_uri": "https://localhost:8080/"
        }
      },
      "outputs": [
        {
          "output_type": "stream",
          "name": "stdout",
          "text": [
            "[[1 0 0 0 2]\n",
            " [0 1 0 0 3]\n",
            " [0 0 1 0 4]\n",
            " [0 0 0 1 1]]\n"
          ]
        }
      ],
      "source": [
        "def ref_to_diagonal(A_ref):\n",
        "    ### START CODE HERE ###\n",
        "    A_diag = A_ref.copy()\n",
        "    #Row 3\n",
        "    A_diag = row_add(A_diag,3,2,-3)\n",
        "    #Row 2\n",
        "    A_diag = row_add(A_diag,3,1,-3)\n",
        "    A_diag = row_add(A_diag,2,1,-4)\n",
        "    #Row 3\n",
        "    A_diag = row_add(A_diag,3,0,1)\n",
        "    A_diag = row_add(A_diag,2,0,1)\n",
        "    A_diag = row_add(A_diag,1,0,-2)\n",
        "    ### END CODE HERE ###\n",
        "\n",
        "    return A_diag\n",
        "\n",
        "A_diag = ref_to_diagonal(A_ref)\n",
        "\n",
        "print(A_diag)"
      ]
    },
    {
      "cell_type": "markdown",
      "metadata": {
        "id": "pIJFRmGOTkY6"
      },
      "source": [
        "##### __Expected Output__\n",
        "\n",
        "```Python\n",
        "[[1 0 0 0 2]\n",
        " [0 1 0 0 3]\n",
        " [0 0 1 0 4]\n",
        " [0 0 0 1 1]]\n",
        "```"
      ]
    },
    {
      "cell_type": "code",
      "execution_count": 132,
      "metadata": {
        "id": "Ww0MsGL-TkY9",
        "outputId": "df67ff06-c67a-40aa-b2c7-7443f381a329",
        "colab": {
          "base_uri": "https://localhost:8080/"
        }
      },
      "outputs": [
        {
          "output_type": "stream",
          "name": "stdout",
          "text": [
            "\u001b[92m All tests passed\n"
          ]
        }
      ],
      "source": [
        "# Test your solution\n",
        "w2_unittest.test_ref_to_diagonal(ref_to_diagonal)"
      ]
    },
    {
      "cell_type": "markdown",
      "metadata": {
        "id": "ZqF_q3cvTkY9"
      },
      "source": [
        "Congratulations! You have finished first assignment in this Course."
      ]
    },
    {
      "cell_type": "code",
      "execution_count": null,
      "metadata": {
        "tags": [
          "graded"
        ],
        "id": "nmWMxQr2TkY9"
      },
      "outputs": [],
      "source": []
    }
  ],
  "metadata": {
    "accelerator": "GPU",
    "colab": {
      "name": "C1_W1_Assignment_Solution.ipynb",
      "provenance": []
    },
    "coursera": {
      "schema_names": [
        "AI4MC1-1"
      ]
    },
    "grader_version": "1",
    "kernelspec": {
      "display_name": "Python 3",
      "language": "python",
      "name": "python3"
    },
    "language_info": {
      "codemirror_mode": {
        "name": "ipython",
        "version": 3
      },
      "file_extension": ".py",
      "mimetype": "text/x-python",
      "name": "python",
      "nbconvert_exporter": "python",
      "pygments_lexer": "ipython3",
      "version": "3.8.8"
    },
    "toc": {
      "base_numbering": 1,
      "nav_menu": {},
      "number_sections": true,
      "sideBar": true,
      "skip_h1_title": false,
      "title_cell": "Table of Contents",
      "title_sidebar": "Contents",
      "toc_cell": false,
      "toc_position": {},
      "toc_section_display": true,
      "toc_window_display": false
    },
    "vscode": {
      "interpreter": {
        "hash": "478841ab876a4250505273c8a697bbc1b6b194054b009c227dc606f17fb56272"
      }
    }
  },
  "nbformat": 4,
  "nbformat_minor": 0
}
{
  "cells": [
    {
      "cell_type": "markdown",
      "id": "existing-japanese",
      "metadata": {
        "id": "existing-japanese"
      },
      "source": [
        "# Introduction to Python Matrices and NumPy #\n",
        "\n",
        "Welcome to your first notebook of this specialization! In this notebook, you will use NumPy to create 2-D arrays and easily compute mathematical operations. NumPy (Numerical Python) is an open-source package that is widely used in science and engineering. Feel free to skip this notebook if you are already fluent with NumPy.\n",
        "\n",
        "**After this assignment you will be able to:**\n",
        "- Use Jupyter Notebook and its features.\n",
        "- Use NumPy functions to create arrays and NumPy array operations.\n",
        "- Use indexing and slicing for 2-D arrays.\n",
        "- Find the shape of an array, reshape it and stack it horizontally and vertically.\n",
        "\n",
        "**Instructions**\n",
        "- You will be using Python 3.\n",
        "- Follow along the cells using `Shift`+`Enter`. Alternatively, you can press `Run` in the menu."
      ]
    },
    {
      "cell_type": "markdown",
      "id": "indie-lithuania",
      "metadata": {
        "id": "indie-lithuania"
      },
      "source": [
        "## Table of Contents ##\n",
        "[About Jupyter Notebooks](#0)\n",
        "- [1 - Basics of NumPy](#1)\n",
        "    - [1.1 - Packages](#1-1)\n",
        "    - [1.2 - Advantages of using NumPy arrays](#1-2)\n",
        "    - [1.3 - How to create NumPy arrays](#1-3)\n",
        "    - [1.4 - More on NumPy arrays](#1-4)\n",
        "- [2 - Multidimensional arrays](#2)\n",
        "    - [2.1 - Finding size, shape and dimension](#2-1)\n",
        "- [3 - Array math operations](#3)\n",
        "    - [3.1 - Multiplying vector with a scalar (broadcasting)](#3-1)\n",
        "- [4 - Indexing and slicing](#4)\n",
        "    - [4.1 - Indexing](#4-1)\n",
        "    - [4.2 - Slicing](#4-2)\n",
        "- [5 - Stacking](#5)\n",
        "- [6 - Exercises](#6)"
      ]
    },
    {
      "cell_type": "markdown",
      "id": "welsh-generic",
      "metadata": {
        "id": "welsh-generic"
      },
      "source": [
        "<a name='0'></a>\n",
        "## About Jupyter Notebooks ##\n",
        "\n",
        "\n",
        "Jupyter Notebooks are interactive coding journals that integrate live code, explanatory text, equations, visualizations and other multimedia resources, all in a single document. As a first exercise, run the test snippet below and the print statement cell for \"Hello World\"."
      ]
    },
    {
      "cell_type": "code",
      "execution_count": 1,
      "id": "expired-interface",
      "metadata": {
        "id": "expired-interface"
      },
      "outputs": [],
      "source": [
        "# Run the \"Hello World\" in the cell below to print \"Hello World\".\n",
        "test = \"Hello World\""
      ]
    },
    {
      "cell_type": "code",
      "execution_count": 2,
      "id": "instrumental-macro",
      "metadata": {
        "scrolled": true,
        "colab": {
          "base_uri": "https://localhost:8080/"
        },
        "id": "instrumental-macro",
        "outputId": "b2234360-dc58-4c97-ef81-af640ec0678d"
      },
      "outputs": [
        {
          "output_type": "stream",
          "name": "stdout",
          "text": [
            "Hello World\n"
          ]
        }
      ],
      "source": [
        "print(test)"
      ]
    },
    {
      "cell_type": "markdown",
      "id": "whole-fundamental",
      "metadata": {
        "id": "whole-fundamental"
      },
      "source": [
        "<a name='1'></a>\n",
        "# 1 - Basics of NumPy #\n",
        "\n",
        "NumPy is the main package for scientific computing in Python. It performs a wide variety of advanced mathematical operations with high efficiency. In this practice lab you will learn several key NumPy functions that will help you in future assignments, such as creating arrays, slicing, indexing, reshaping and stacking."
      ]
    },
    {
      "cell_type": "markdown",
      "id": "neutral-concern",
      "metadata": {
        "id": "neutral-concern"
      },
      "source": [
        "<a name='1-1'></a>\n",
        "## 1.1 - Packages ##"
      ]
    },
    {
      "cell_type": "markdown",
      "id": "warming-hypothesis",
      "metadata": {
        "id": "warming-hypothesis"
      },
      "source": [
        "Before you get started, you have to import NumPy to load its functions. As you may notice, even though there is no expected output, when you run this cell, the Jupyter Notebook imports the package (often referred to as the library) and its functions. Try it for yourself and run the following cell."
      ]
    },
    {
      "cell_type": "code",
      "execution_count": 3,
      "id": "under-hardware",
      "metadata": {
        "id": "under-hardware"
      },
      "outputs": [],
      "source": [
        "import numpy as np"
      ]
    },
    {
      "cell_type": "markdown",
      "id": "entire-entertainment",
      "metadata": {
        "id": "entire-entertainment"
      },
      "source": [
        "<a name='1-2'></a>\n",
        "## 1.2 - Advantages of using NumPy arrays ##"
      ]
    },
    {
      "cell_type": "markdown",
      "id": "skilled-action",
      "metadata": {
        "id": "skilled-action"
      },
      "source": [
        "Arrays are one of the core data structures of the NumPy library, essential for organizing your data. You can think of them as a grid of values, all of the same type. If you have used Python lists before, you may remember that they are convenient, as you can store different data types. However, Python lists are limited in functions and take up more space and time to process than NumPy arrays.\n",
        "\n",
        "NumPy provides an array object that is much faster and more compact than Python lists. Through its extensive API integration, the library offers many built-in functions that make computing much easier with only a few lines of code. This can be a huge advantage when performing math operations on large datasets.\n",
        "\n",
        "The array object in NumPy is called `ndarray` meaning 'n-dimensional array'. To begin with, you will use one of the most common array types: the one-dimensional array ('1-D'). A 1-D array represents a standard list of values entirely in one dimension. Remember that in NumPy, all of the elements within the array are of the same type."
      ]
    },
    {
      "cell_type": "code",
      "execution_count": 4,
      "id": "rural-ceiling",
      "metadata": {
        "colab": {
          "base_uri": "https://localhost:8080/"
        },
        "id": "rural-ceiling",
        "outputId": "52832435-83bf-4c53-d355-cb357178108b"
      },
      "outputs": [
        {
          "output_type": "stream",
          "name": "stdout",
          "text": [
            "[10 12]\n"
          ]
        }
      ],
      "source": [
        "one_dimensional_arr = np.array([10, 12])\n",
        "print(one_dimensional_arr)"
      ]
    },
    {
      "cell_type": "markdown",
      "id": "planned-billy",
      "metadata": {
        "id": "planned-billy"
      },
      "source": [
        "<a name='1-3'></a>\n",
        "## 1.3 - How to create NumPy arrays ##"
      ]
    },
    {
      "cell_type": "markdown",
      "id": "dynamic-benjamin",
      "metadata": {
        "id": "dynamic-benjamin"
      },
      "source": [
        "There are several ways to create an array in NumPy. You can create a 1-D array by simply using the function `array()` which takes in a list of values as an argument and returns a 1-D array."
      ]
    },
    {
      "cell_type": "code",
      "execution_count": 5,
      "id": "single-amplifier",
      "metadata": {
        "colab": {
          "base_uri": "https://localhost:8080/"
        },
        "id": "single-amplifier",
        "outputId": "e0fe2337-955f-4efc-a2bb-9f29ac734077"
      },
      "outputs": [
        {
          "output_type": "stream",
          "name": "stdout",
          "text": [
            "[1 2 3]\n"
          ]
        }
      ],
      "source": [
        "# Create and print a NumPy array 'a' containing the elements 1, 2, 3.\n",
        "a = np.array([1, 2, 3])\n",
        "print(a)"
      ]
    },
    {
      "cell_type": "markdown",
      "id": "flexible-palace",
      "metadata": {
        "id": "flexible-palace"
      },
      "source": [
        "Another way to implement an array is using `np.arange()`. This function will return an array of evenly spaced values within a given interval. To learn more about the arguments that this function takes, there is a powerful feature in Jupyter Notebook that allows you to access the documentation of any function by simply pressing `shift+tab` on your keyboard when clicking on the function. Give it a try for the built-in documentation of `np.arange()`."
      ]
    },
    {
      "cell_type": "code",
      "execution_count": 9,
      "id": "aggressive-beginning",
      "metadata": {
        "colab": {
          "base_uri": "https://localhost:8080/"
        },
        "id": "aggressive-beginning",
        "outputId": "cc228485-ffd6-4e56-9370-2df42b1fa3b6"
      },
      "outputs": [
        {
          "output_type": "stream",
          "name": "stdout",
          "text": [
            "Object `np.arange #python` not found.\n",
            "[0 1 2]\n"
          ]
        }
      ],
      "source": [
        "# Create an array with 3 integers, starting from the default integer 0.\n",
        "?np.arange #python\n",
        "\n",
        "b = np.arange(3)\n",
        "print(b)"
      ]
    },
    {
      "cell_type": "code",
      "execution_count": 10,
      "id": "mineral-assets",
      "metadata": {
        "colab": {
          "base_uri": "https://localhost:8080/"
        },
        "id": "mineral-assets",
        "outputId": "4588457c-d028-4864-f890-d9e843bcc7b9"
      },
      "outputs": [
        {
          "output_type": "stream",
          "name": "stdout",
          "text": [
            "[ 1  4  7 10 13 16 19]\n"
          ]
        }
      ],
      "source": [
        "# Create an array that starts from the integer 1, ends at 20, incremented by 3.\n",
        "c = np.arange(1, 20, 3)\n",
        "print(c)"
      ]
    },
    {
      "cell_type": "markdown",
      "id": "little-entrance",
      "metadata": {
        "id": "little-entrance"
      },
      "source": [
        "What if you wanted to create an array with five evenly spaced values in the interval from 0 to 100? As you may notice, you have 3 parameters that a function must take. One paremeter is the starting number, in  this case 0, the final number 100 and the number of elements in the array, in this case, 5. NumPy has a function that allows you to do specifically this by using `np.linspace()`."
      ]
    },
    {
      "cell_type": "code",
      "execution_count": 11,
      "id": "hispanic-offset",
      "metadata": {
        "colab": {
          "base_uri": "https://localhost:8080/"
        },
        "id": "hispanic-offset",
        "outputId": "bab98644-06f6-420f-97c4-d89c6d5be59d"
      },
      "outputs": [
        {
          "output_type": "stream",
          "name": "stdout",
          "text": [
            "[  0.  25.  50.  75. 100.]\n"
          ]
        }
      ],
      "source": [
        "lin_spaced_arr = np.linspace(0, 100, 5)\n",
        "print(lin_spaced_arr)"
      ]
    },
    {
      "cell_type": "markdown",
      "id": "victorian-norway",
      "metadata": {
        "id": "victorian-norway"
      },
      "source": [
        "Did you notice that the output of the function is presented in the float value form (e.g. \"... 25. 50. ...\")? The reason is that the default type for values in the NumPy function `np.linspace` is a floating point (`np.float64`). You can easily specify your data type using `dtype`. If you access the built-in documentation of the functions, you may notice that most functions take in an optional parameter `dtype`. In addition to float, NumPy has several other data types such as `int`, and `char`.\n",
        "\n",
        "To change the type to integers, you need to set the dtype to `int`. You can do so, even in the previous functions. Feel free to try it out and modify the cells to output your desired data type."
      ]
    },
    {
      "cell_type": "code",
      "execution_count": 12,
      "id": "black-worker",
      "metadata": {
        "scrolled": true,
        "colab": {
          "base_uri": "https://localhost:8080/"
        },
        "id": "black-worker",
        "outputId": "ac7b6528-c085-4713-b7ef-9fcd9fb4483a"
      },
      "outputs": [
        {
          "output_type": "stream",
          "name": "stdout",
          "text": [
            "[  0  25  50  75 100]\n"
          ]
        }
      ],
      "source": [
        "lin_spaced_arr_int = np.linspace(0, 100, 5, dtype=int)\n",
        "print(lin_spaced_arr_int)"
      ]
    },
    {
      "cell_type": "code",
      "execution_count": 13,
      "id": "specialized-intellectual",
      "metadata": {
        "colab": {
          "base_uri": "https://localhost:8080/"
        },
        "id": "specialized-intellectual",
        "outputId": "eb5dd441-9e88-4caf-b78d-03467dc2db92"
      },
      "outputs": [
        {
          "output_type": "stream",
          "name": "stdout",
          "text": [
            "[ 1  4  7 10 13 16 19]\n"
          ]
        }
      ],
      "source": [
        "c_int = np.arange(1, 20, 3, dtype=int)\n",
        "print(c_int)"
      ]
    },
    {
      "cell_type": "code",
      "execution_count": 14,
      "id": "irish-greeting",
      "metadata": {
        "colab": {
          "base_uri": "https://localhost:8080/"
        },
        "id": "irish-greeting",
        "outputId": "2312245f-6e40-499d-c360-3d67b38722b2"
      },
      "outputs": [
        {
          "output_type": "stream",
          "name": "stdout",
          "text": [
            "[0. 1. 2.]\n"
          ]
        }
      ],
      "source": [
        "b_float = np.arange(3, dtype=float)\n",
        "print(b_float)"
      ]
    },
    {
      "cell_type": "code",
      "execution_count": 15,
      "id": "visible-logic",
      "metadata": {
        "colab": {
          "base_uri": "https://localhost:8080/"
        },
        "id": "visible-logic",
        "outputId": "2418dda4-859a-4faf-d311-3177c61fcdec"
      },
      "outputs": [
        {
          "output_type": "stream",
          "name": "stdout",
          "text": [
            "['Welcome to Math for ML!']\n",
            "<U23\n"
          ]
        }
      ],
      "source": [
        "char_arr = np.array(['Welcome to Math for ML!'])\n",
        "print(char_arr)\n",
        "print(char_arr.dtype) # Prints the data type of the array"
      ]
    },
    {
      "cell_type": "markdown",
      "id": "korean-identity",
      "metadata": {
        "id": "korean-identity"
      },
      "source": [
        "Did you notice that the output of the data type of the `char_arr` array is `<U23`?\n",
        "This means that the string (`'Welcome to Math for ML!'`) is a 23-character (23) unicode string (`U`) on a little-endian architecture (`<`). You can learn more about data types [here](https://numpy.org/doc/stable/user/basics.types.html)."
      ]
    },
    {
      "cell_type": "markdown",
      "id": "ready-backup",
      "metadata": {
        "id": "ready-backup"
      },
      "source": [
        "<a name='1-4'></a>\n",
        "## 1.4 - More on NumPy arrays ##\n",
        "\n",
        "One of the advantages of using NumPy is that you can easily create arrays with built-in functions such as:\n",
        "- `np.ones()` - Returns a new array setting values to one.\n",
        "- `np.zeros()` - Returns a new array setting values to zero.\n",
        "- `np.empty()` - Returns a new uninitialized array.\n",
        "- `np.random.rand()` - Returns a new array with values chosen at random."
      ]
    },
    {
      "cell_type": "code",
      "execution_count": 18,
      "id": "prime-gamma",
      "metadata": {
        "colab": {
          "base_uri": "https://localhost:8080/"
        },
        "id": "prime-gamma",
        "outputId": "60f6cd54-9df3-40d8-bf4e-7f5aeffd3f0b"
      },
      "outputs": [
        {
          "output_type": "stream",
          "name": "stdout",
          "text": [
            "[1 1 1]\n"
          ]
        }
      ],
      "source": [
        "# Return a new array of shape 3, filled with ones.\n",
        "ones_arr = np.ones(3,dtype=int)\n",
        "print(ones_arr)"
      ]
    },
    {
      "cell_type": "code",
      "execution_count": 19,
      "id": "altered-timer",
      "metadata": {
        "colab": {
          "base_uri": "https://localhost:8080/"
        },
        "id": "altered-timer",
        "outputId": "26bf2ed5-804a-4ed4-8505-5459911e707d"
      },
      "outputs": [
        {
          "output_type": "stream",
          "name": "stdout",
          "text": [
            "[0. 0. 0.]\n"
          ]
        }
      ],
      "source": [
        "# Return a new array of shape 3, filled with zeroes.\n",
        "zeros_arr = np.zeros(3)\n",
        "print(zeros_arr)"
      ]
    },
    {
      "cell_type": "code",
      "execution_count": 21,
      "id": "loaded-kansas",
      "metadata": {
        "colab": {
          "base_uri": "https://localhost:8080/"
        },
        "id": "loaded-kansas",
        "outputId": "31462c2c-9b06-46ed-cc16-ae93611775aa"
      },
      "outputs": [
        {
          "output_type": "stream",
          "name": "stdout",
          "text": [
            "[0. 0. 0.]\n"
          ]
        },
        {
          "output_type": "execute_result",
          "data": {
            "text/plain": [
              "array([ True,  True,  True])"
            ]
          },
          "metadata": {},
          "execution_count": 21
        }
      ],
      "source": [
        "# Return a new array of shape 3, without initializing entries.\n",
        "empt_arr = np.empty(3)\n",
        "print(empt_arr)\n",
        "empt_arr == zeros_arr"
      ]
    },
    {
      "cell_type": "code",
      "execution_count": 22,
      "id": "color-steps",
      "metadata": {
        "colab": {
          "base_uri": "https://localhost:8080/"
        },
        "id": "color-steps",
        "outputId": "a6135554-10c7-40e5-a5c6-d2d5f75203b4"
      },
      "outputs": [
        {
          "output_type": "stream",
          "name": "stdout",
          "text": [
            "[0.34826083 0.82540346 0.93545991]\n"
          ]
        }
      ],
      "source": [
        "# Return a new array of shape 3 with random numbers between 0 and 1.\n",
        "rand_arr = np.random.rand(3)\n",
        "print(rand_arr)"
      ]
    },
    {
      "cell_type": "markdown",
      "id": "angry-engagement",
      "metadata": {
        "id": "angry-engagement"
      },
      "source": [
        "<a name='2'></a>\n",
        "# 2 - Multidimensional Arrays #\n",
        "With NumPy you can also create arrays with more than one dimension. In the above examples, you dealt with 1-D arrays, where you can access their elements using a single index. A multidimensional array has more than one column. Think of a multidimensional array as an excel sheet where each row/column represents a dimension."
      ]
    },
    {
      "cell_type": "markdown",
      "id": "editorial-adobe",
      "metadata": {
        "id": "editorial-adobe"
      },
      "source": [
        "![0_Vh-pKXTJsdL-9FT0.png](attachment:0_Vh-pKXTJsdL-9FT0.png)"
      ]
    },
    {
      "cell_type": "code",
      "execution_count": 5,
      "id": "turned-nevada",
      "metadata": {
        "colab": {
          "base_uri": "https://localhost:8080/"
        },
        "id": "turned-nevada",
        "outputId": "e7f7e2d5-4221-449d-ec72-1278850f269d"
      },
      "outputs": [
        {
          "output_type": "stream",
          "name": "stdout",
          "text": [
            "[[1 2 3]\n",
            " [4 5 6]]\n"
          ]
        }
      ],
      "source": [
        "# Create a 2 dimensional array (2-D)\n",
        "two_dim_arr = np.array([[1,2,3], [4,5,6]])\n",
        "print(two_dim_arr)"
      ]
    },
    {
      "cell_type": "markdown",
      "id": "greater-rescue",
      "metadata": {
        "id": "greater-rescue"
      },
      "source": [
        "An alternative way to create a multidimensional array is by reshaping the initial 1-D array. Using `np.reshape()` you can rearrange elements of the previous array into a new shape."
      ]
    },
    {
      "cell_type": "code",
      "execution_count": 19,
      "id": "assisted-traveler",
      "metadata": {
        "colab": {
          "base_uri": "https://localhost:8080/"
        },
        "id": "assisted-traveler",
        "outputId": "218f1c73-e9bc-4c1d-9141-312c3581edb1"
      },
      "outputs": [
        {
          "output_type": "stream",
          "name": "stdout",
          "text": [
            "[[1 2 3]\n",
            " [4 5 6]]\n"
          ]
        }
      ],
      "source": [
        "?np.reshape\n",
        "# 1-D array\n",
        "one_dim_arr = np.array([1, 2, 3, 4, 5, 6])\n",
        "\n",
        "# Multidimensional array using reshape()\n",
        "multi_dim_arr = np.reshape(\n",
        "                one_dim_arr, # the array to be reshaped\n",
        "               (2,3) # dimensions of the new array\n",
        "              )\n",
        "# Print the new 2-D array with two rows and three columns\n",
        "print(one_dim_arr)\n",
        "print(multi_dim_arr)"
      ]
    },
    {
      "cell_type": "markdown",
      "id": "threaded-continent",
      "metadata": {
        "id": "threaded-continent"
      },
      "source": [
        "<!-- exercise: can you create an array with three rows and 4 columns using np.ones . Whats the dimension, size and shape of the array? -->"
      ]
    },
    {
      "cell_type": "markdown",
      "id": "loving-accordance",
      "metadata": {
        "id": "loving-accordance"
      },
      "source": [
        "<a name='2-1'></a>\n",
        "## 2.1 - Finding size, shape and dimension. ##"
      ]
    },
    {
      "cell_type": "markdown",
      "id": "suitable-russian",
      "metadata": {
        "id": "suitable-russian"
      },
      "source": [
        "In future assignments, you will need to know how to find the size, dimension and shape of an array. These are all atrributes of a `ndarray` and can be accessed as follows:\n",
        "- `ndarray.ndim` - Stores the number dimensions of the array.\n",
        "- `ndarray.shape` - Stores the shape of the array. Each number in the tuple denotes the lengths of each corresponding dimension.\n",
        "- `ndarray.size` - Stores the number of elements in the array.\n"
      ]
    },
    {
      "cell_type": "code",
      "execution_count": 20,
      "id": "caring-julian",
      "metadata": {
        "colab": {
          "base_uri": "https://localhost:8080/"
        },
        "id": "caring-julian",
        "outputId": "bfa3b7fc-9c73-41dd-b018-8c8298727b56"
      },
      "outputs": [
        {
          "output_type": "execute_result",
          "data": {
            "text/plain": [
              "2"
            ]
          },
          "metadata": {},
          "execution_count": 20
        }
      ],
      "source": [
        "# Dimension of the 2-D array multi_dim_arr\n",
        "multi_dim_arr.ndim"
      ]
    },
    {
      "cell_type": "code",
      "execution_count": 21,
      "id": "canadian-ribbon",
      "metadata": {
        "colab": {
          "base_uri": "https://localhost:8080/"
        },
        "id": "canadian-ribbon",
        "outputId": "7598ae5c-6f8b-4bf8-b95c-f8a19569da01"
      },
      "outputs": [
        {
          "output_type": "execute_result",
          "data": {
            "text/plain": [
              "(2, 3)"
            ]
          },
          "metadata": {},
          "execution_count": 21
        }
      ],
      "source": [
        "# Shape of the 2-D array multi_dim_arr\n",
        "# Returns shape of 2 rows and 3 columns\n",
        "multi_dim_arr.shape"
      ]
    },
    {
      "cell_type": "code",
      "execution_count": 22,
      "id": "infectious-peeing",
      "metadata": {
        "colab": {
          "base_uri": "https://localhost:8080/"
        },
        "id": "infectious-peeing",
        "outputId": "395ab8d8-043d-4dda-d786-97c50a2d0bd4"
      },
      "outputs": [
        {
          "output_type": "execute_result",
          "data": {
            "text/plain": [
              "6"
            ]
          },
          "metadata": {},
          "execution_count": 22
        }
      ],
      "source": [
        "# Size of the array multi_dim_arr\n",
        "# Returns total number of elements\n",
        "multi_dim_arr.size"
      ]
    },
    {
      "cell_type": "markdown",
      "id": "mighty-berry",
      "metadata": {
        "id": "mighty-berry"
      },
      "source": [
        "<a name='3'></a>\n",
        "# 3 - Array math operations #\n",
        "In this section, you will see that NumPy allows you to quickly perform elementwise addition, substraction, multiplication and division for both 1-D and multidimensional arrays. The operations are performed using the math symbol for each '+', '-' and '*'. Recall that addition of Python lists works completely differently as it would append the lists, thus making a longer list, in addition, subtraction and multiplication of Python lists do not work."
      ]
    },
    {
      "cell_type": "code",
      "execution_count": 40,
      "id": "exposed-shower",
      "metadata": {
        "colab": {
          "base_uri": "https://localhost:8080/"
        },
        "id": "exposed-shower",
        "outputId": "af49b350-b037-411a-e8d1-85a116a8c4ea"
      },
      "outputs": [
        {
          "output_type": "stream",
          "name": "stdout",
          "text": [
            "[ 2 12 30]\n"
          ]
        }
      ],
      "source": [
        "arr_1 = np.array([2, 4, 6]);\n",
        "arr_1.shape\n",
        "arr_2 = np.array([1, 3, 5])\n",
        "\n",
        "# Adding two 1-D arrays\n",
        "addition = arr_1 + arr_2\n",
        "print(addition)\n",
        "\n",
        "# Subtracting two 1-D arrays\n",
        "subtraction = arr_1 - arr_2\n",
        "print(subtraction)\n",
        "\n",
        "# Multiplying two 1-D arrays elementwise\n",
        "multiplication = arr_1 * arr_2\n",
        "print(multiplication)"
      ]
    },
    {
      "cell_type": "markdown",
      "id": "latest-slovenia",
      "metadata": {
        "id": "latest-slovenia"
      },
      "source": [
        "<a name='3-1'></a>\n",
        "## 3.1 - Multiplying vector with a scalar (broadcasting) ##\n",
        "Suppose you need to convert miles to kilometers. To do so, you can use the NumPy array functions that you've learned so far. You can do this by carrying out an operation between an array (miles) and a single number (the conversion rate which is a scalar). Since, 1 mile = 1.6 km, NumPy computes each multiplication within each cell.\n",
        "\n",
        "This concept is called **broadcasting**, which allows you to perform operations specifically on arrays of different shapes."
      ]
    },
    {
      "cell_type": "code",
      "execution_count": 45,
      "id": "eligible-grant",
      "metadata": {
        "colab": {
          "base_uri": "https://localhost:8080/"
        },
        "id": "eligible-grant",
        "outputId": "0eea4121-86ff-42ce-a68a-b9fcbe6a2c5a"
      },
      "outputs": [
        {
          "output_type": "stream",
          "name": "stdout",
          "text": [
            "[1 2]\n"
          ]
        }
      ],
      "source": [
        "vector = np.array([1, 2])\n",
        "print(vector)\n",
        "print(vector * 1.6)"
      ]
    },
    {
      "cell_type": "markdown",
      "id": "seasonal-milwaukee",
      "metadata": {
        "id": "seasonal-milwaukee"
      },
      "source": [
        "![Unknown-2.png](attachment:Unknown-2.png)"
      ]
    },
    {
      "cell_type": "markdown",
      "id": "plain-thumbnail",
      "metadata": {
        "id": "plain-thumbnail"
      },
      "source": [
        "<a name='4'></a>\n",
        "# 4 - Indexing and slicing #\n",
        "Indexing is very useful as it allows you to select specific elements from an array. It also lets you select entire rows/columns or planes as you'll see in future assignments for multidimensional arrays.\n",
        "\n",
        "## 4.1 - Indexing ##\n",
        "Let us select specific elements from the arrays as given."
      ]
    },
    {
      "cell_type": "code",
      "execution_count": 51,
      "id": "sought-amazon",
      "metadata": {
        "colab": {
          "base_uri": "https://localhost:8080/"
        },
        "id": "sought-amazon",
        "outputId": "25bdb807-8fd6-4896-d0be-f10a19ecf401"
      },
      "outputs": [
        {
          "output_type": "stream",
          "name": "stdout",
          "text": [
            "3\n",
            "1\n"
          ]
        }
      ],
      "source": [
        "# Select the third element of the array. Remember the counting starts from 0.\n",
        "a = ([1, 2, 3, 4, 5])\n",
        "print(a[2])\n",
        "\n",
        "# Select the first element of the array.\n",
        "print(a[0])"
      ]
    },
    {
      "cell_type": "markdown",
      "id": "australian-pharmacy",
      "metadata": {
        "id": "australian-pharmacy"
      },
      "source": [
        "For multidimensional arrays of shape `n`, to index a specific element, you must input `n` indices, one for each dimension."
      ]
    },
    {
      "cell_type": "code",
      "execution_count": 55,
      "id": "characteristic-positive",
      "metadata": {
        "colab": {
          "base_uri": "https://localhost:8080/"
        },
        "id": "characteristic-positive",
        "outputId": "e31de298-6237-4dfe-e782-bdaea0380a53"
      },
      "outputs": [
        {
          "output_type": "stream",
          "name": "stdout",
          "text": [
            "8\n"
          ]
        }
      ],
      "source": [
        "# Indexing on a 2-D array\n",
        "two_dim = np.array(([1, 2, 3],\n",
        "          [4, 5, 6],\n",
        "          [7, 8, 9]))\n",
        "\n",
        "# Select element number 8 from the 2-D array using indices i, j.\n",
        "print(two_dim[2][1])"
      ]
    },
    {
      "cell_type": "markdown",
      "id": "southwest-warrant",
      "metadata": {
        "id": "southwest-warrant"
      },
      "source": [
        "<a name='4-2'></a>\n",
        "## 4.2 - Slicing ##\n",
        "Slicing gives you a sublist of elements that you specify from the array. The slice notation specifies a start and end value, and copies the list from start up to but not including the end (end-exclusive).\n",
        "\n",
        "The syntax is:\n",
        "\n",
        "`array[start:end:step]`\n",
        "\n",
        "If no value is passed to start, it is assumed `start = 0`, if no value is passed to end, it is assumed that `end = length of array - 1` and if no value is passed to step, it is assumed `step = 1`."
      ]
    },
    {
      "cell_type": "code",
      "execution_count": 59,
      "id": "moral-police",
      "metadata": {
        "scrolled": true,
        "colab": {
          "base_uri": "https://localhost:8080/"
        },
        "id": "moral-police",
        "outputId": "9b451ac2-bc96-427e-eb27-9035fe5f53c7"
      },
      "outputs": [
        {
          "output_type": "stream",
          "name": "stdout",
          "text": [
            "[2, 3, 4]\n"
          ]
        }
      ],
      "source": [
        "# Slice the array a to get the array [2,3,4]\n",
        "sliced_arr = a[1:4]\n",
        "print(sliced_arr)"
      ]
    },
    {
      "cell_type": "code",
      "execution_count": 62,
      "id": "181bce55",
      "metadata": {
        "colab": {
          "base_uri": "https://localhost:8080/"
        },
        "id": "181bce55",
        "outputId": "d3a005aa-24b4-4d88-b096-d5145a579a4c"
      },
      "outputs": [
        {
          "output_type": "stream",
          "name": "stdout",
          "text": [
            "[1, 2, 3, 4, 5]\n",
            "[1, 2, 3]\n"
          ]
        }
      ],
      "source": [
        "# Slice the array a to get the array [1,2,3]\n",
        "print(a)\n",
        "sliced_arr = a[:3]\n",
        "print(sliced_arr)"
      ]
    },
    {
      "cell_type": "code",
      "execution_count": 71,
      "id": "63bfcd06",
      "metadata": {
        "colab": {
          "base_uri": "https://localhost:8080/"
        },
        "id": "63bfcd06",
        "outputId": "cf48126f-d4b2-48ad-9e4b-6ecda1d8a57c"
      },
      "outputs": [
        {
          "output_type": "stream",
          "name": "stdout",
          "text": [
            "[1, 2, 3, 4, 5]\n"
          ]
        }
      ],
      "source": [
        "# Slice the array a to get the array [3,4,5]\n",
        "print(a)\n",
        "sliced_arr = a[2:5]\n",
        "print(sliced_arr)"
      ]
    },
    {
      "cell_type": "code",
      "execution_count": 73,
      "id": "0469a119",
      "metadata": {
        "colab": {
          "base_uri": "https://localhost:8080/"
        },
        "id": "0469a119",
        "outputId": "d4a833ee-de8b-4533-a73c-bc9d652681bd"
      },
      "outputs": [
        {
          "output_type": "stream",
          "name": "stdout",
          "text": [
            "[1, 3, 5]\n"
          ]
        }
      ],
      "source": [
        "# Slice the array a to get the array [1,3,5]\n",
        "sliced_arr = a[::2]\n",
        "print(sliced_arr)"
      ]
    },
    {
      "cell_type": "code",
      "execution_count": 74,
      "id": "f2ef18ad",
      "metadata": {
        "colab": {
          "base_uri": "https://localhost:8080/"
        },
        "id": "f2ef18ad",
        "outputId": "fa19ec99-7a49-44dc-90d6-31dfdaf958e8"
      },
      "outputs": [
        {
          "output_type": "stream",
          "name": "stdout",
          "text": [
            "True\n"
          ]
        }
      ],
      "source": [
        "# Note that a == a[:] == a[::]\n",
        "print(a == a[:] == a[::])"
      ]
    },
    {
      "cell_type": "code",
      "execution_count": 79,
      "id": "norwegian-fence",
      "metadata": {
        "colab": {
          "base_uri": "https://localhost:8080/"
        },
        "id": "norwegian-fence",
        "outputId": "c9fab248-d706-43fd-ba83-a8f3d5b2ed5b"
      },
      "outputs": [
        {
          "output_type": "execute_result",
          "data": {
            "text/plain": [
              "array([[1, 2, 3],\n",
              "       [4, 5, 6]])"
            ]
          },
          "metadata": {},
          "execution_count": 79
        }
      ],
      "source": [
        "# Slice the two_dim array to get the first two rows\n",
        "print(two_dim)\n",
        "sliced_arr_1 = two_dim[0:2]\n",
        "sliced_arr_1"
      ]
    },
    {
      "cell_type": "code",
      "execution_count": 80,
      "id": "structured-lease",
      "metadata": {
        "colab": {
          "base_uri": "https://localhost:8080/"
        },
        "id": "structured-lease",
        "outputId": "f987e4e5-644a-46ad-8400-4a4ec441aafb"
      },
      "outputs": [
        {
          "output_type": "stream",
          "name": "stdout",
          "text": [
            "[[4 5 6]\n",
            " [7 8 9]]\n"
          ]
        }
      ],
      "source": [
        "# Similarily, slice the two_dim array to get the last two rows\n",
        "sliced_two_dim_rows = two_dim[1:3]\n",
        "print(sliced_two_dim_rows)"
      ]
    },
    {
      "cell_type": "code",
      "execution_count": 86,
      "id": "fourth-center",
      "metadata": {
        "colab": {
          "base_uri": "https://localhost:8080/"
        },
        "id": "fourth-center",
        "outputId": "21af7f2a-848f-4303-9ed6-f0d09ba76613"
      },
      "outputs": [
        {
          "output_type": "stream",
          "name": "stdout",
          "text": [
            "[2 5 8]\n",
            "[1 2 3]\n"
          ]
        }
      ],
      "source": [
        "sliced_two_dim_cols = two_dim[:,1]\n",
        "print(sliced_two_dim_cols)\n",
        "print(two_dim[0,:]) # all columns in the first row"
      ]
    },
    {
      "cell_type": "markdown",
      "id": "appointed-worry",
      "metadata": {
        "id": "appointed-worry"
      },
      "source": [
        "<a name='5'></a>\n",
        "# 5 - Stacking #\n",
        "Finally, stacking is a feature of NumPy that leads to increased customization of arrays. It means to join two or more arrays, either horizontally or vertically, meaning that it is done along a new axis.\n",
        "\n",
        "- `np.vstack()` - stacks vertically\n",
        "- `np.hstack()` - stacks horizontally\n",
        "- `np.hsplit()` - splits an array into several smaller arrays"
      ]
    },
    {
      "cell_type": "code",
      "execution_count": null,
      "id": "casual-sacramento",
      "metadata": {
        "id": "casual-sacramento"
      },
      "outputs": [],
      "source": [
        "a1 = np.array([[1,1],\n",
        "               [2,2]])\n",
        "a2 = np.array([[3,3],\n",
        "              [4,4]])\n",
        "print(f'a1:\\n{a1}')\n",
        "print(f'a2:\\n{a2}')"
      ]
    },
    {
      "cell_type": "code",
      "execution_count": null,
      "id": "bizarre-welsh",
      "metadata": {
        "id": "bizarre-welsh"
      },
      "outputs": [],
      "source": [
        "# Stack the arrays vertically\n",
        "vert_stack = np.vstack((a1, a2))\n",
        "print(vert_stack)\n"
      ]
    },
    {
      "cell_type": "code",
      "execution_count": null,
      "id": "applicable-tampa",
      "metadata": {
        "id": "applicable-tampa"
      },
      "outputs": [],
      "source": [
        "# Stack the arrays horizontally\n",
        "horz_stack = np.hstack((a1, a2))\n",
        "print(horz_stack)"
      ]
    },
    {
      "cell_type": "markdown",
      "id": "wanted-society",
      "metadata": {
        "id": "wanted-society"
      },
      "source": [
        "<a name='6'></a>\n",
        "## Exercises ##\n",
        "Well done! Now, from what you learned today, try to answer the following question.\n",
        "\n",
        "### Question 1 ###\n",
        "Is there a difference between `np.zeros()` and `np.empty()`? Select one of the options given:\n",
        "- A. No difference, they both output arrays of zeros.\n",
        "- B. `np.zeros()` is not initialized, but gives an output of zeros.\n",
        "- C. `np.zeros()` is faster to execute than `np.empty()`.\n",
        "- D. `np.empty()` outputs an uninitialized array, but `np.zeros()` outputs an initialized array of value zero."
      ]
    },
    {
      "cell_type": "code",
      "execution_count": null,
      "id": "fitted-architect",
      "metadata": {
        "scrolled": false,
        "id": "fitted-architect"
      },
      "outputs": [],
      "source": [
        "# Run this cell to select your answer\n",
        "import quiz\n",
        "import ipywidgets as widgets\n",
        "q1 = quiz.mcq(quiz.question1, quiz.solution1)"
      ]
    },
    {
      "cell_type": "markdown",
      "id": "romance-mining",
      "metadata": {
        "id": "romance-mining"
      },
      "source": [
        "Congratulations on finishing your first notebook of this specialization!"
      ]
    }
  ],
  "metadata": {
    "kernelspec": {
      "display_name": "Python 3",
      "language": "python",
      "name": "python3"
    },
    "language_info": {
      "codemirror_mode": {
        "name": "ipython",
        "version": 3
      },
      "file_extension": ".py",
      "mimetype": "text/x-python",
      "name": "python",
      "nbconvert_exporter": "python",
      "pygments_lexer": "ipython3",
      "version": "3.8.8"
    },
    "vscode": {
      "interpreter": {
        "hash": "56d44d6a8424451b5ce45d1ae0b0b7865dc60710e7f74571dd51dd80d7829ee9"
      }
    },
    "colab": {
      "provenance": []
    }
  },
  "nbformat": 4,
  "nbformat_minor": 5
}